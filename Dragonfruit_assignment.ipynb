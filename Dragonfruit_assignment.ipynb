{
  "nbformat": 4,
  "nbformat_minor": 0,
  "metadata": {
    "colab": {
      "provenance": []
    },
    "kernelspec": {
      "name": "python3",
      "display_name": "Python 3"
    },
    "language_info": {
      "name": "python"
    }
  },
  "cells": [
    {
      "cell_type": "code",
      "source": [
        "import numpy as np\n",
        "import random"
      ],
      "metadata": {
        "id": "spaFWZ2oPADR"
      },
      "execution_count": 15,
      "outputs": []
    },
    {
      "cell_type": "markdown",
      "source": [
        "# Generation of Simulated Images"
      ],
      "metadata": {
        "id": "es2qyS7XGzes"
      }
    },
    {
      "cell_type": "code",
      "source": [
        "def generate_microscope_image(size):\n",
        "  \"\"\"\n",
        "  Creates a binary image with a random, blob-like parasite occupying 25% or more of the area.\n",
        "  Uses a combination of random walks and filling to create a more connected blob shape.\n",
        "  \"\"\"\n",
        "  image = [0] * size**2\n",
        "\n",
        "  # Ensure at least 25% of pixels are black (parasite)\n",
        "  parasite_area = 0.3\n",
        "  min_black_pixels = 0.3 * (size**2)\n",
        "  black_pixels = 0\n",
        "\n",
        "  # Start with a random seed pixel\n",
        "  x, y = random.randint(0, size-1), random.randint(0, size-1)\n",
        "  image[y * size + x] = 1\n",
        "  black_pixels += 1\n",
        "\n",
        "  # Perform a random walk to create a connected structure\n",
        "  for _ in range(min_black_pixels // 2):\n",
        "    # Choose a random direction (up, down, left, right)\n",
        "    direction = random.choice([(0, 1), (0, -1), (1, 0), (-1, 0)])\n",
        "    new_x, new_y = x + direction[0], y + direction[1]\n",
        "\n",
        "    # Check if new position is within image bounds and not already black\n",
        "    if 0 <= new_x < size and 0 <= new_y < size and image[new_y * size + new_x] == 0:\n",
        "      x, y = new_x, new_y\n",
        "      image[y * size + x] = 1\n",
        "      black_pixels += 1\n",
        "\n",
        "  # Fill any small gaps within the initial structure to improve blob-likeness\n",
        "  fill_queue = [(x, y)]\n",
        "  while fill_queue:\n",
        "    x, y = fill_queue.pop(0)\n",
        "    for dx, dy in [(0, 1), (0, -1), (1, 0), (-1, 0)]:\n",
        "      new_x, new_y = x + dx, y + dy\n",
        "      if 0 <= new_x < size and 0 <= new_y < size and image[new_y * size + new_x] == 0:\n",
        "        image[new_y * size + new_x] = 1\n",
        "        black_pixels += 1\n",
        "        fill_queue.append((new_x, new_y))\n",
        "\n",
        "  # Add some noise for imperfections\n",
        "  for _ in range(int(size**2 * 0.01)):\n",
        "    x, y = random.randint(0, size-1), random.randint(0, size-1)\n",
        "    image[y * size + x] = 1\n",
        "\n",
        "  return image"
      ],
      "metadata": {
        "id": "-1v-V7AB6fR3"
      },
      "execution_count": 16,
      "outputs": []
    },
    {
      "cell_type": "code",
      "source": [
        "# Run Length Encoding is used for microscopic image as we have a continuous area of black and white pixels\n",
        "\n",
        "def encode_rle_black_only(image_data):\n",
        "  \"\"\"\n",
        "  Generates RLE encoding from a binary image (list of 0s and 1s), considering only black pixels (value 1) run.\n",
        "  \"\"\"\n",
        "  rle = []\n",
        "  run_start = None  # Track the start of a black pixel run\n",
        "  for i, pixel in enumerate(image_data):\n",
        "    if pixel == 1:  # Black pixel encountered\n",
        "      if run_start is None:\n",
        "        run_start = i  # Start a new run if not already started\n",
        "    else:  # Encountered a white pixel (or the beginning of the image)\n",
        "      if run_start is not None:  # If a black run was in progress\n",
        "        rle.append((run_start, i - run_start))  # Add the black run information\n",
        "        run_start = None  # Reset run start for next black pixel\n",
        "\n",
        "  # Add the last black run if it exists\n",
        "  if run_start is not None:\n",
        "    rle.append((run_start, len(image_data) - run_start))\n",
        "\n",
        "  return rle"
      ],
      "metadata": {
        "id": "5mR30Qj9GDzu"
      },
      "execution_count": 17,
      "outputs": []
    },
    {
      "cell_type": "code",
      "source": [
        "def decode_rle(rle_data, size):\n",
        "  \"\"\"\n",
        "  Decodes RLE data (list of tuples) into a binary image (list of 0s and 1s).\n",
        "  Assumes proper RLE format (tuples of starting position and run length).\n",
        "  \"\"\"\n",
        "  image = [0]*(size**2)\n",
        "  total_parasite_area = 0\n",
        "\n",
        "  for start, run_length in rle_data:\n",
        "    image[start: start+run_length] = 1\n",
        "    total_parasite_area += run_length\n",
        "\n",
        "  return image, total_parasite_area"
      ],
      "metadata": {
        "id": "wnMiFJdIK8X9"
      },
      "execution_count": 18,
      "outputs": []
    },
    {
      "cell_type": "code",
      "source": [
        "# Sparse matrix representation is used for dye sensor images using dictionary as the lit pixels will be sparse\n",
        "\n",
        "def generate_dye_sensor_image(size, sparsity=0.001):\n",
        "  \"\"\"\n",
        "  Creates a sparse image with random luminescence points.\n",
        "  \"\"\"\n",
        "  image = {}  # Use dictionary for sparse representation\n",
        "  num_lit_pixels = int(size**2 * sparsity)\n",
        "  for _ in range(num_lit_pixels):\n",
        "    x, y = random.randint(0, size-1), random.randint(0, size-1)\n",
        "    image[(y * size) + x] = 1\n",
        "  return image"
      ],
      "metadata": {
        "id": "j_oSIDx6DJLY"
      },
      "execution_count": 19,
      "outputs": []
    },
    {
      "cell_type": "markdown",
      "source": [
        "# Detection of Cancer"
      ],
      "metadata": {
        "id": "Ny0nFlMrJ7Xe"
      }
    },
    {
      "cell_type": "code",
      "source": [
        "def has_cancer(microscope_image_RLE, dye_image, cancer_threshold=0.1):\n",
        "  \"\"\"\n",
        "  Checks if a parasite has cancer based on dye intensity exceeding the threshold.\n",
        "  \"\"\"\n",
        "  microscope_image, total_parasite_area = decode_rle(microscope_image_RLE)\n",
        "\n",
        "  # Calculate total dye intensity within parasite region\n",
        "  total_dye = 0\n",
        "\n",
        "  for position, intensity in dye_image.items():\n",
        "    if position < len(microscope_image) and microscope_image[position] == 1:  # Check if inside parasite\n",
        "      total_dye += 1\n",
        "      # Early stopping for efficiency (optional)\n",
        "      if total_dye / total_parasite_area > cancer_threshold:\n",
        "        return True\n",
        "\n",
        "  # Determine if dye intensity exceeds cancer threshold\n",
        "  return total_dye / total_parasite_area > cancer_threshold"
      ],
      "metadata": {
        "id": "cdKGgdm6EY-2"
      },
      "execution_count": 20,
      "outputs": []
    }
  ]
}